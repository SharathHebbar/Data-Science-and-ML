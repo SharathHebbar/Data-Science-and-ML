{
  "nbformat": 4,
  "nbformat_minor": 0,
  "metadata": {
    "colab": {
      "name": "alpha and p-values.ipynb",
      "provenance": [],
      "collapsed_sections": []
    },
    "kernelspec": {
      "name": "python3",
      "display_name": "Python 3"
    },
    "language_info": {
      "name": "python"
    }
  },
  "cells": [
    {
      "cell_type": "markdown",
      "source": [
        "# **Alpha ($\\alpha$)** and **P-values**"
      ],
      "metadata": {
        "id": "sNjdZzoFdXDR"
      }
    },
    {
      "cell_type": "markdown",
      "source": [
        "In conducting a test of significance or hypothesis test, there are two numbers that are easy to get confused. These numbers are easily confused because they are both numbers between zero and one, and are both probabilities. One number is called the **p-value** of the **test statistic**. The other number of interests is the level of significance or **alpha($\\alpha$)**. We will examine these two probabilities and determine the difference between them.\n"
      ],
      "metadata": {
        "id": "GwlaCZjOdYtA"
      }
    },
    {
      "cell_type": "markdown",
      "source": [
        "## Hypothesis Test\n",
        "\n"
      ],
      "metadata": {
        "id": "E-qu6PCoeap9"
      }
    },
    {
      "cell_type": "markdown",
      "source": [
        "There are two types of hypothesis namely:\n",
        "1. **Null Hypothesis**\n",
        "2. **Alternative Hypothesis**\n",
        "\n",
        "The **null hypothesis** of a test always predicts no effect or no relationship between variables.<br>\n",
        "The **alternative hypothesis** states your research prediction of an effect or relationship."
      ],
      "metadata": {
        "id": "6BTDvCzphA4W"
      }
    },
    {
      "cell_type": "markdown",
      "source": [
        "In hypothesis tests, two errors are possible, **Type I** and **Type II** errors.\n",
        "<br>\n",
        "**Type I error**: Supporting the **alternate hypothesis** when the **null hypothesis** is true.\n",
        "<br>\n",
        "**Type II error**: Not supporting the **alternate hypothesis** when the **alternate hypothesis** is true.\n"
      ],
      "metadata": {
        "id": "EeKTJioPefaV"
      }
    },
    {
      "cell_type": "markdown",
      "source": [
        "<table>\n",
        "<tr>\n",
        "<td> </td>\n",
        "<td>Null hypothesis is true(H0)</td>\n",
        "<td>Null hypothesis is false(H1)</td>\n",
        "</tr>\n",
        "<tr>\n",
        "<td>We reject the null hypothesis</td>\n",
        "<td>Type 1 error</td>\n",
        "<td>Correct Decision</td>\n",
        "</tr>\n",
        "<tr>\n",
        "<td>We fail to reject the null hypothesis</td>\n",
        "<td>Correct Decision</td>\n",
        "<td>Type 2 error</td>\n",
        "</tr>\n",
        "</table>"
      ],
      "metadata": {
        "id": "FG9SCHgdepig"
      }
    },
    {
      "cell_type": "markdown",
      "source": [
        "## Alpha Values"
      ],
      "metadata": {
        "id": "IAEucMvAdYzQ"
      }
    },
    {
      "cell_type": "markdown",
      "source": [
        "The number **alpha ($\\alpha$)** is the threshold value that we measure **p-values** against. It tells us how extreme observed results must be in order to **reject** the **null hypothesis** of a **significance test**.<br>\n",
        "\n",
        "The value of **alpha($\\alpha$)** is associated with the **confidence level** of our test.<br><br>\n",
        "Example: <br><br>\n",
        "For results with a 90 percent level of confidence, the value of **alpha($\\alpha$)** is \n",
        "1–0.90 = 0.10.<br><br>\n",
        "In general, for results with a 'C' percent level of confidence, the value of **alpha($\\alpha$)** is 1-(C/100).<br><br>\n",
        "The most commonly used **alpha value ($\\alpha$)** is 0.05 or 5%. The reason for this is both because consensus shows that this level is appropriate in many cases, and historically, it has been accepted as the standard.<br><br>\n",
        "The **alpha($\\alpha$)** value gives us the probability of a **type I error**. **Type I errors** occur when we **reject** a **null hypothesis** that is actually true. Thus, in the long run, for a test with a level of **significance** of 0.05 = 1/20, a true **null hypothesis** will be rejected one out of every 20 times."
      ],
      "metadata": {
        "id": "t4ooepakdZJf"
      }
    },
    {
      "cell_type": "markdown",
      "source": [
        "### Why is an alpha level of .05 commonly used?"
      ],
      "metadata": {
        "id": "e_4BgGV2iCiI"
      }
    },
    {
      "cell_type": "markdown",
      "source": [
        "\n",
        "Seeing as the **alpha($\\alpha$)** level is the probability of making a **Type I error**, it seems to make sense that we make this area as tiny as possible. For example, if we set the **alpha($\\alpha$)** level at 10% then there is a large chance that we might incorrectly reject the **null hypothesis**, while an **alpha ($\\alpha$)** level of 1% would make the area tiny. So why not use a tiny area instead of the standard 5%?\n",
        "\n",
        "The smaller the **alpha($\\alpha$)** level, the smaller the area where you would reject the **null hypothesis**. So if you have a tiny area, there’s more of a chance that you will NOT reject the **null hypothesis**, when in fact you should. This is a **Type II error**.\n",
        "In other words, the more you try and avoid a **Type I error**, the more likely a **Type II error** could creep in. Scientists have found that an **alpha($\\alpha$)** level of 5% is a good balance between these two issues.\n",
        "\n"
      ],
      "metadata": {
        "id": "kU4eZAFbh-F2"
      }
    },
    {
      "cell_type": "markdown",
      "source": [
        "## P-Values"
      ],
      "metadata": {
        "id": "C8Fn6QldaOKQ"
      }
    },
    {
      "cell_type": "markdown",
      "source": [
        "A **p-value** is also a probability. Every **test statistic** has a corresponding probability or **p-value**. This value is the probability that the observed statistic occurred by chance alone, assuming that the **null hypothesis** is true.\n",
        "<br><br>\n",
        "Since there are a number of different **test statistics**, there are a number of different ways to find a ​**p-value**. For some cases, we need to know the probability distribution of the population.​​\n",
        "<br><br>\n",
        "The **p-value** of the **test statistic** is a way of saying how extreme that statistic is for our sample data. The smaller the **p-value**, the more unlikely the observed sample."
      ],
      "metadata": {
        "id": "Eh3TD3wWaN8U"
      }
    },
    {
      "cell_type": "markdown",
      "source": [
        "## Difference Between P-Value and Alpha Values"
      ],
      "metadata": {
        "id": "XxfDuHq9aN6l"
      }
    },
    {
      "cell_type": "markdown",
      "source": [
        "To determine if an observed outcome is statistically significant, we compare the values of **alpha($\\alpha$)** and the **p-value**. There are two possibilities that emerge:\n",
        "<br>\n",
        "- The **p-value** is less than or equal to **alpha($\\alpha$)**. In this case, we reject the **null hypothesis**. When this happens, we say that the result is statistically significant. In other words, we are reasonably sure that there is something besides chance alone that gives us an observed sample.\n",
        "- The **p-value** is greater than **alpha($\\alpha$)**. In this case, we fail to reject the **null hypothesis**. When this happens, we say that the result is not statistically significant. In other words, we are reasonably sure that our observed data can be explained by chance alone.\n",
        "<br>\n",
        "1. The implication of the above is that the smaller the value of **alpha($\\alpha$)** is, the more difficult it is to claim that a result is statistically significant. \n",
        "2. On the other hand, the larger the value of **alpha($\\alpha$)** is the easier it is to claim that a result is statistically significant. \n"
      ],
      "metadata": {
        "id": "jLe9wjhTb7QG"
      }
    },
    {
      "cell_type": "markdown",
      "source": [
        "# References\n"
      ],
      "metadata": {
        "id": "Oy24UVrMaaqB"
      }
    },
    {
      "cell_type": "markdown",
      "source": [
        "https://www.thoughtco.com/the-difference-between-alpha-and-p-values-3126420"
      ],
      "metadata": {
        "id": "buNGZGfWeDSq"
      }
    }
  ]
}