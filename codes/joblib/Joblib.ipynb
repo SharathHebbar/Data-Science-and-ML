{
  "nbformat": 4,
  "nbformat_minor": 0,
  "metadata": {
    "colab": {
      "name": "Joblib.ipynb",
      "provenance": [],
      "collapsed_sections": []
    },
    "kernelspec": {
      "name": "python3",
      "display_name": "Python 3"
    },
    "language_info": {
      "name": "python"
    }
  },
  "cells": [
    {
      "cell_type": "markdown",
      "source": [
        "# Joblib\n",
        "\n",
        "Joblib is a set of tools to provide **lightweight** pipelining in Python. In particular: transparent disk-caching of functions and lazy re-evaluation (memoize pattern) easy simple **parallel computing**."
      ],
      "metadata": {
        "id": "CVIlOOskgb9a"
      }
    },
    {
      "cell_type": "markdown",
      "source": [
        "## Why it is used?\n",
        "- Better performance \n",
        "- reproducibility\n",
        "- Avoid computing the same thing twice\n",
        "- Persist to disk transparently"
      ],
      "metadata": {
        "id": "ROhhlGgtpTcV"
      }
    },
    {
      "cell_type": "markdown",
      "source": [
        "## Features\n",
        "\n",
        "- Transparent and fast disk-caching of output value\n",
        "- Embarrassingly parallel helper\n",
        "- Fast compressed Persistence"
      ],
      "metadata": {
        "id": "GxlA2s0OpTmg"
      }
    },
    {
      "cell_type": "markdown",
      "source": [
        "## Importing libraries"
      ],
      "metadata": {
        "id": "EOQkKtVig2hP"
      }
    },
    {
      "cell_type": "code",
      "execution_count": null,
      "metadata": {
        "id": "qmcTI_A6gKTb"
      },
      "outputs": [],
      "source": [
        "from joblib import Memory,Parallel, delayed,dump,load\n",
        "import pandas as pd\n",
        "import numpy as np\n",
        "import math"
      ]
    },
    {
      "cell_type": "markdown",
      "source": [
        "## Data Creation"
      ],
      "metadata": {
        "id": "R7aJixu9hcDj"
      }
    },
    {
      "cell_type": "code",
      "source": [
        "my_dir = '/content/sample_data'\n",
        "a = np.vander(np.arange(3))\n",
        "print(a)"
      ],
      "metadata": {
        "id": "hZcfgolNgTmO",
        "colab": {
          "base_uri": "https://localhost:8080/"
        },
        "outputId": "bb6c7ee3-72b4-4515-b12b-d8a6921621ed"
      },
      "execution_count": null,
      "outputs": [
        {
          "output_type": "stream",
          "name": "stdout",
          "text": [
            "[[0 0 1]\n",
            " [1 1 1]\n",
            " [4 2 1]]\n"
          ]
        }
      ]
    },
    {
      "cell_type": "markdown",
      "source": [
        "### Memory"
      ],
      "metadata": {
        "id": "sYa4JtOkxMf2"
      }
    },
    {
      "cell_type": "code",
      "source": [
        "mem = Memory(my_dir)\n",
        "sqr = mem.cache(np.square) \n",
        "b = sqr(a)\n",
        "print(b)"
      ],
      "metadata": {
        "id": "3aMwDK2agTpW",
        "colab": {
          "base_uri": "https://localhost:8080/"
        },
        "outputId": "39664732-60e8-47d0-e493-2a513ed567ce"
      },
      "execution_count": null,
      "outputs": [
        {
          "output_type": "stream",
          "name": "stdout",
          "text": [
            "[[ 0  0  1]\n",
            " [ 1  1  1]\n",
            " [16  4  1]]\n"
          ]
        }
      ]
    },
    {
      "cell_type": "markdown",
      "source": [
        "## Parallel"
      ],
      "metadata": {
        "id": "UBdJAmsExijy"
      }
    },
    {
      "cell_type": "code",
      "source": [
        "%%time\n",
        "Parallel(n_jobs=1)(delayed(np.square)(i) for i in range(10))"
      ],
      "metadata": {
        "id": "il6wBkuKgTrD",
        "colab": {
          "base_uri": "https://localhost:8080/"
        },
        "outputId": "43b1b631-3a21-4d5f-975c-cf643359027d"
      },
      "execution_count": null,
      "outputs": [
        {
          "output_type": "stream",
          "name": "stdout",
          "text": [
            "CPU times: user 2.85 ms, sys: 0 ns, total: 2.85 ms\n",
            "Wall time: 3 ms\n"
          ]
        },
        {
          "output_type": "execute_result",
          "data": {
            "text/plain": [
              "[0, 1, 4, 9, 16, 25, 36, 49, 64, 81]"
            ]
          },
          "metadata": {},
          "execution_count": 27
        }
      ]
    },
    {
      "cell_type": "code",
      "source": [
        "%%time\n",
        "Parallel(n_jobs=2)(delayed(np.square)(i) for i in range(10))"
      ],
      "metadata": {
        "id": "c16KdzGigTs8",
        "colab": {
          "base_uri": "https://localhost:8080/"
        },
        "outputId": "f26c17d2-9f97-4b3a-8245-c258671d0c7f"
      },
      "execution_count": null,
      "outputs": [
        {
          "output_type": "stream",
          "name": "stdout",
          "text": [
            "CPU times: user 42.7 ms, sys: 762 µs, total: 43.5 ms\n",
            "Wall time: 75.9 ms\n"
          ]
        },
        {
          "output_type": "execute_result",
          "data": {
            "text/plain": [
              "[0, 1, 4, 9, 16, 25, 36, 49, 64, 81]"
            ]
          },
          "metadata": {},
          "execution_count": 28
        }
      ]
    },
    {
      "cell_type": "code",
      "source": [
        "%%time\n",
        "Parallel(n_jobs=3)(delayed(np.square)(i) for i in range(10))"
      ],
      "metadata": {
        "colab": {
          "base_uri": "https://localhost:8080/"
        },
        "id": "zkhwkQtT4rlx",
        "outputId": "2a32a1a2-60b7-4f31-f3bd-b545a6e92416"
      },
      "execution_count": null,
      "outputs": [
        {
          "output_type": "stream",
          "name": "stdout",
          "text": [
            "CPU times: user 92.9 ms, sys: 8.93 ms, total: 102 ms\n",
            "Wall time: 151 ms\n"
          ]
        },
        {
          "output_type": "execute_result",
          "data": {
            "text/plain": [
              "[0, 1, 4, 9, 16, 25, 36, 49, 64, 81]"
            ]
          },
          "metadata": {},
          "execution_count": 29
        }
      ]
    },
    {
      "cell_type": "markdown",
      "source": [
        "## Dump"
      ],
      "metadata": {
        "id": "8qaGjFEl47ck"
      }
    },
    {
      "cell_type": "code",
      "source": [
        "dump(a,'/content/sample_data/a.job')"
      ],
      "metadata": {
        "colab": {
          "base_uri": "https://localhost:8080/"
        },
        "id": "jFb_6qHM48oo",
        "outputId": "62364b8b-7507-4580-f6b3-9f8369517a4a"
      },
      "execution_count": null,
      "outputs": [
        {
          "output_type": "execute_result",
          "data": {
            "text/plain": [
              "['/content/sample_data/a.job']"
            ]
          },
          "metadata": {},
          "execution_count": 30
        }
      ]
    },
    {
      "cell_type": "markdown",
      "source": [
        "## Load"
      ],
      "metadata": {
        "id": "Ai5gr6hD5GBZ"
      }
    },
    {
      "cell_type": "code",
      "source": [
        "aa = load('/content/sample_data/a.job')\n",
        "aa"
      ],
      "metadata": {
        "colab": {
          "base_uri": "https://localhost:8080/"
        },
        "id": "CtjWCyZm5FJ8",
        "outputId": "f5cbe0ec-fd03-4f20-b7d2-79fb502c8b14"
      },
      "execution_count": null,
      "outputs": [
        {
          "output_type": "execute_result",
          "data": {
            "text/plain": [
              "array([[0, 0, 1],\n",
              "       [1, 1, 1],\n",
              "       [4, 2, 1]])"
            ]
          },
          "metadata": {},
          "execution_count": 31
        }
      ]
    },
    {
      "cell_type": "markdown",
      "source": [
        "# References \n",
        "\n",
        "https://joblib.readthedocs.io/en/latest/#:~:text=Joblib%20is%20a%20set%20of,easy%20simple%20parallel%20computing\n",
        "\n",
        "Documentation: https://joblib.readthedocs.io\n",
        "\n",
        "Download: https://pypi.python.org/pypi/joblib#downloads\n",
        "\n",
        "Source code: https://github.com/joblib/joblib\n",
        "\n",
        "Report issues: https://github.com/joblib/joblib/issues"
      ],
      "metadata": {
        "id": "4iy6962Tgq-X"
      }
    }
  ]
}